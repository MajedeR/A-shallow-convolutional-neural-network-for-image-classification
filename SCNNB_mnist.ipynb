{
  "nbformat": 4,
  "nbformat_minor": 0,
  "metadata": {
    "colab": {
      "provenance": [],
      "collapsed_sections": [
        "R0uHvWmDEoiH",
        "Gv2hxJPmEtaK",
        "f-lFXH5_FazX",
        "iORN90wkFibK",
        "LAav51pJHRuV"
      ]
    },
    "kernelspec": {
      "name": "python3",
      "display_name": "Python 3"
    },
    "language_info": {
      "name": "python"
    },
    "gpuClass": "standard",
    "accelerator": "GPU"
  },
  "cells": [
    {
      "cell_type": "markdown",
      "source": [
        "# Imports"
      ],
      "metadata": {
        "id": "R0uHvWmDEoiH"
      }
    },
    {
      "cell_type": "code",
      "source": [
        "import torch\n",
        "from torch import nn\n",
        "import torch.nn.functional as F\n",
        "from torch.utils.data import DataLoader, Dataset\n",
        "\n",
        "import torchvision\n",
        "from torchvision import transforms\n",
        "from torchvision.datasets import ImageFolder\n",
        "\n",
        "import matplotlib.pyplot as plt\n",
        "import seaborn as sns\n",
        "import numpy as np\n",
        "from tqdm import tqdm\n",
        "from PIL import Image\n",
        "import cv2\n",
        "import glob\n",
        "import os\n",
        "\n",
        "from timeit import default_timer as timer"
      ],
      "metadata": {
        "id": "VNzkp7shXLFq"
      },
      "execution_count": 1,
      "outputs": []
    },
    {
      "cell_type": "markdown",
      "source": [
        "# Preparation Data set"
      ],
      "metadata": {
        "id": "Gv2hxJPmEtaK"
      }
    },
    {
      "cell_type": "code",
      "execution_count": 2,
      "metadata": {
        "id": "-QxRLrvUW71F",
        "colab": {
          "base_uri": "https://localhost:8080/"
        },
        "outputId": "6687b687-701c-4ce6-9417-1522994c478d"
      },
      "outputs": [
        {
          "output_type": "stream",
          "name": "stdout",
          "text": [
            "Downloading http://yann.lecun.com/exdb/mnist/train-images-idx3-ubyte.gz\n",
            "Downloading http://yann.lecun.com/exdb/mnist/train-images-idx3-ubyte.gz to data/MNIST/raw/train-images-idx3-ubyte.gz\n"
          ]
        },
        {
          "output_type": "stream",
          "name": "stderr",
          "text": [
            "100%|██████████| 9912422/9912422 [00:00<00:00, 96956472.93it/s]\n"
          ]
        },
        {
          "output_type": "stream",
          "name": "stdout",
          "text": [
            "Extracting data/MNIST/raw/train-images-idx3-ubyte.gz to data/MNIST/raw\n",
            "\n",
            "Downloading http://yann.lecun.com/exdb/mnist/train-labels-idx1-ubyte.gz\n",
            "Downloading http://yann.lecun.com/exdb/mnist/train-labels-idx1-ubyte.gz to data/MNIST/raw/train-labels-idx1-ubyte.gz\n"
          ]
        },
        {
          "output_type": "stream",
          "name": "stderr",
          "text": [
            "100%|██████████| 28881/28881 [00:00<00:00, 91769465.02it/s]\n"
          ]
        },
        {
          "output_type": "stream",
          "name": "stdout",
          "text": [
            "Extracting data/MNIST/raw/train-labels-idx1-ubyte.gz to data/MNIST/raw\n",
            "\n",
            "Downloading http://yann.lecun.com/exdb/mnist/t10k-images-idx3-ubyte.gz\n",
            "Downloading http://yann.lecun.com/exdb/mnist/t10k-images-idx3-ubyte.gz to data/MNIST/raw/t10k-images-idx3-ubyte.gz\n"
          ]
        },
        {
          "output_type": "stream",
          "name": "stderr",
          "text": [
            "100%|██████████| 1648877/1648877 [00:00<00:00, 25369456.38it/s]\n"
          ]
        },
        {
          "output_type": "stream",
          "name": "stdout",
          "text": [
            "Extracting data/MNIST/raw/t10k-images-idx3-ubyte.gz to data/MNIST/raw\n",
            "\n",
            "Downloading http://yann.lecun.com/exdb/mnist/t10k-labels-idx1-ubyte.gz\n",
            "Downloading http://yann.lecun.com/exdb/mnist/t10k-labels-idx1-ubyte.gz to data/MNIST/raw/t10k-labels-idx1-ubyte.gz\n"
          ]
        },
        {
          "output_type": "stream",
          "name": "stderr",
          "text": [
            "100%|██████████| 4542/4542 [00:00<00:00, 17541923.36it/s]\n"
          ]
        },
        {
          "output_type": "stream",
          "name": "stdout",
          "text": [
            "Extracting data/MNIST/raw/t10k-labels-idx1-ubyte.gz to data/MNIST/raw\n",
            "\n"
          ]
        }
      ],
      "source": [
        "Transforms = transforms.Compose([transforms.ToTensor(), transforms.Normalize(mean=0.5, std=0.5)])\n",
        "\n",
        "train_dataset = torchvision.datasets.MNIST(root = \"data\", train = True, download = True, transform = Transforms)\n",
        "\n",
        "test_dataset = torchvision.datasets.MNIST(root = \"data\",train = False, download = True,transform = Transforms)\n",
        "\n",
        "train_dataloader = DataLoader(dataset = train_dataset,batch_size = 128,num_workers = 2,shuffle = True)\n",
        "test_dataloader = DataLoader(dataset = test_dataset, batch_size = 128,num_workers = 2)"
      ]
    },
    {
      "cell_type": "markdown",
      "source": [
        "# Creat SCNNB Model"
      ],
      "metadata": {
        "id": "f-lFXH5_FazX"
      }
    },
    {
      "cell_type": "code",
      "source": [
        "class SCNNB_Model(nn.Module):\n",
        "    def __init__(self, input_shape, output_shape):\n",
        "        super().__init__()\n",
        "        \n",
        "        self.CNN_block = nn.Sequential(\n",
        "            nn.Conv2d(input_shape,  32, kernel_size = (3,3), stride = 1, padding = 1), \n",
        "            nn.BatchNorm2d(32),\n",
        "            nn.ReLU(),\n",
        "            nn.MaxPool2d(kernel_size=(2,2), stride=2),\n",
        "            nn.Conv2d(32, 64, kernel_size = (3,3), stride = 1, padding = 1),\n",
        "            nn.BatchNorm2d(64),\n",
        "            nn.ReLU(),\n",
        "            nn.MaxPool2d(kernel_size=(2,2), stride=2)\n",
        "        )\n",
        "\n",
        "        self.classifier = nn.Sequential(\n",
        "            nn.Flatten(),\n",
        "            nn.Linear(in_features = 64*7*7, out_features = output_shape),\n",
        "            nn.Dropout(0.5),\n",
        "            nn.Softmax(1)\n",
        "        )\n",
        "    \n",
        "    def forward(self, x: torch.Tensor):\n",
        "        x = self.CNN_block(x)\n",
        "        x = self.classifier(x)\n",
        "        return x\n"
      ],
      "metadata": {
        "id": "xHX8f8-3XZK-"
      },
      "execution_count": 3,
      "outputs": []
    },
    {
      "cell_type": "code",
      "source": [
        "model1 = SCNNB_Model(input_shape=1,  output_shape=10)\n",
        "model1"
      ],
      "metadata": {
        "colab": {
          "base_uri": "https://localhost:8080/"
        },
        "id": "NUIjczDVXb9w",
        "outputId": "7b901a1f-289a-4a57-ea73-3bab09d46909"
      },
      "execution_count": 4,
      "outputs": [
        {
          "output_type": "execute_result",
          "data": {
            "text/plain": [
              "SCNNB_Model(\n",
              "  (CNN_block): Sequential(\n",
              "    (0): Conv2d(1, 32, kernel_size=(3, 3), stride=(1, 1), padding=(1, 1))\n",
              "    (1): BatchNorm2d(32, eps=1e-05, momentum=0.1, affine=True, track_running_stats=True)\n",
              "    (2): ReLU()\n",
              "    (3): MaxPool2d(kernel_size=(2, 2), stride=2, padding=0, dilation=1, ceil_mode=False)\n",
              "    (4): Conv2d(32, 64, kernel_size=(3, 3), stride=(1, 1), padding=(1, 1))\n",
              "    (5): BatchNorm2d(64, eps=1e-05, momentum=0.1, affine=True, track_running_stats=True)\n",
              "    (6): ReLU()\n",
              "    (7): MaxPool2d(kernel_size=(2, 2), stride=2, padding=0, dilation=1, ceil_mode=False)\n",
              "  )\n",
              "  (classifier): Sequential(\n",
              "    (0): Flatten(start_dim=1, end_dim=-1)\n",
              "    (1): Linear(in_features=3136, out_features=10, bias=True)\n",
              "    (2): Dropout(p=0.5, inplace=False)\n",
              "    (3): Softmax(dim=1)\n",
              "  )\n",
              ")"
            ]
          },
          "metadata": {},
          "execution_count": 4
        }
      ]
    },
    {
      "cell_type": "markdown",
      "source": [
        "# Train SCNNB Model"
      ],
      "metadata": {
        "id": "iORN90wkFibK"
      }
    },
    {
      "cell_type": "code",
      "source": [
        "def train_step(model,data_loader,loss_fn, optimizer, accuracy_fn,device):\n",
        "    \n",
        "    model.to(device)\n",
        "    train_loss, train_acc, counter = 0, 0, 0\n",
        "    with tqdm(data_loader, desc =\"  train\") as train_tqdm:\n",
        "        for X, y in train_tqdm:\n",
        "            X, y = X.to(device), y.to(device)\n",
        "            y_pred = model(X)\n",
        "            loss = loss_fn(y_pred, y)\n",
        "            train_loss += loss\n",
        "            train_acc += accuracy_fn(true=y.cpu(), pred=y_pred.cpu())\n",
        "            counter += 1\n",
        "            train_tqdm.set_postfix(train_acc=train_acc/counter, train_loss=train_loss.item()/counter, refresh=True)\n",
        "            optimizer.zero_grad()\n",
        "            loss.backward()\n",
        "            optimizer.step()\n",
        "        train_loss /= len(data_loader)\n",
        "        train_acc /= len(data_loader)\n",
        "        \n",
        "    return train_loss.item(), train_acc\n"
      ],
      "metadata": {
        "id": "G1IL8H-kXhvG"
      },
      "execution_count": 5,
      "outputs": []
    },
    {
      "cell_type": "code",
      "source": [
        "def test_step(model, data_loader,loss_fn,accuracy_fn, device):\n",
        "    \n",
        "    model.to(device)\n",
        "    model.eval() \n",
        "    test_loss, test_acc, counter = 0, 0, 0\n",
        "    with tqdm(data_loader, desc =\"   test\") as test_tqdm:\n",
        "        for X, y in test_tqdm:\n",
        "            X, y = X.to(device), y.to(device)\n",
        "            test_pred = model(X)\n",
        "            test_loss += loss_fn(test_pred, y)\n",
        "            test_acc += accuracy_fn(true=y.cpu(),pred=test_pred.cpu())\n",
        "            counter += 1\n",
        "            test_tqdm.set_postfix(train_acc=test_acc/counter, train_loss=test_loss.item()/counter, refresh=True)\n",
        "\n",
        "        test_loss /= len(data_loader)\n",
        "        test_acc  /= len(data_loader)\n",
        "            \n",
        "    return test_loss.item(), test_acc"
      ],
      "metadata": {
        "id": "Et1lV3edXnin"
      },
      "execution_count": 6,
      "outputs": []
    },
    {
      "cell_type": "code",
      "source": [
        "loss_fn = nn.CrossEntropyLoss()\n",
        "optimizer = torch.optim.SGD(model1.parameters(), lr = 0.02, momentum=0.9, weight_decay=0.000005)\n",
        "device = torch.device(\"cuda:0\" if torch.cuda.is_available() else \"cpu\")\n",
        "def accuracy_fn(true, pred):\n",
        "    pred = F.softmax(pred, dim = 1)\n",
        "    true = torch.zeros(pred.shape[0], pred.shape[1]).scatter_(1, true.unsqueeze(1), 1.)\n",
        "    acc = (true.argmax(-1) == pred.argmax(-1)).float().detach().numpy()\n",
        "    acc = float((100 * acc.sum()) / len(acc))\n",
        "    return round(acc, 4)"
      ],
      "metadata": {
        "id": "mSBWTUmFXoBt"
      },
      "execution_count": 7,
      "outputs": []
    },
    {
      "cell_type": "code",
      "source": [
        "\n",
        "from timeit import default_timer as timer\n",
        "train_epoch_loss_model1 = []\n",
        "train_epoch_accuracy_model1 = []\n",
        "test_epoch_loss_model1 = []\n",
        "test_epoch_accuracy_model1 = []\n",
        "\n",
        "train_time_start = timer()\n",
        "\n",
        "epochs = 150\n",
        "for epoch in range(epochs):\n",
        "    print(\"EPOCH {}/{} :\".format(epoch +1, epochs))\n",
        "    train_loss, train_acc = train_step(data_loader=train_dataloader,\n",
        "                                              model=model1, \n",
        "                                              loss_fn=loss_fn,\n",
        "                                              optimizer=optimizer,\n",
        "                                              accuracy_fn=accuracy_fn,\n",
        "                                              device=device\n",
        "                                              )\n",
        "    test_loss, test_acc = test_step(data_loader=test_dataloader,\n",
        "                                     model=model1,\n",
        "                                     loss_fn=loss_fn,\n",
        "                                     accuracy_fn=accuracy_fn,\n",
        "                                      device=device\n",
        "                                      )\n",
        "    \n",
        "    train_epoch_loss_model1.append(train_loss)\n",
        "    train_epoch_accuracy_model1.append(train_acc)\n",
        "    test_epoch_loss_model1.append(test_loss)\n",
        "    test_epoch_accuracy_model1.append(test_acc)\n",
        "\n",
        "train_time_end = timer()\n",
        "total_time = train_time_end - train_time_start\n",
        "print(f\"\\n\\nTrain time: {total_time:.3f} seconds\")"
      ],
      "metadata": {
        "colab": {
          "base_uri": "https://localhost:8080/"
        },
        "id": "QYjEq6nxXqp0",
        "outputId": "bdf4f465-ac81-4fea-85c3-4e1ad8689e03"
      },
      "execution_count": 8,
      "outputs": [
        {
          "output_type": "stream",
          "name": "stdout",
          "text": [
            "EPOCH 1/150 :\n"
          ]
        },
        {
          "output_type": "stream",
          "name": "stderr",
          "text": [
            "  train: 100%|██████████| 469/469 [00:27<00:00, 17.08it/s, train_acc=55.7, train_loss=1.89]\n",
            "   test: 100%|██████████| 79/79 [00:02<00:00, 28.81it/s, train_acc=96.7, train_loss=1.5]\n"
          ]
        },
        {
          "output_type": "stream",
          "name": "stdout",
          "text": [
            "EPOCH 2/150 :\n"
          ]
        },
        {
          "output_type": "stream",
          "name": "stderr",
          "text": [
            "  train: 100%|██████████| 469/469 [00:17<00:00, 27.47it/s, train_acc=97.5, train_loss=1.49]\n",
            "   test: 100%|██████████| 79/79 [00:02<00:00, 31.78it/s, train_acc=97.9, train_loss=1.48]\n"
          ]
        },
        {
          "output_type": "stream",
          "name": "stdout",
          "text": [
            "EPOCH 3/150 :\n"
          ]
        },
        {
          "output_type": "stream",
          "name": "stderr",
          "text": [
            "  train: 100%|██████████| 469/469 [00:16<00:00, 27.95it/s, train_acc=98.3, train_loss=1.48]\n",
            "   test: 100%|██████████| 79/79 [00:03<00:00, 23.59it/s, train_acc=98.6, train_loss=1.48]\n"
          ]
        },
        {
          "output_type": "stream",
          "name": "stdout",
          "text": [
            "EPOCH 4/150 :\n"
          ]
        },
        {
          "output_type": "stream",
          "name": "stderr",
          "text": [
            "  train: 100%|██████████| 469/469 [00:15<00:00, 29.84it/s, train_acc=98.6, train_loss=1.48]\n",
            "   test: 100%|██████████| 79/79 [00:02<00:00, 32.53it/s, train_acc=98.4, train_loss=1.48]\n"
          ]
        },
        {
          "output_type": "stream",
          "name": "stdout",
          "text": [
            "EPOCH 5/150 :\n"
          ]
        },
        {
          "output_type": "stream",
          "name": "stderr",
          "text": [
            "  train: 100%|██████████| 469/469 [00:15<00:00, 30.77it/s, train_acc=98.7, train_loss=1.47]\n",
            "   test: 100%|██████████| 79/79 [00:03<00:00, 22.63it/s, train_acc=98.8, train_loss=1.47]\n"
          ]
        },
        {
          "output_type": "stream",
          "name": "stdout",
          "text": [
            "EPOCH 6/150 :\n"
          ]
        },
        {
          "output_type": "stream",
          "name": "stderr",
          "text": [
            "  train: 100%|██████████| 469/469 [00:15<00:00, 30.16it/s, train_acc=98.9, train_loss=1.47]\n",
            "   test: 100%|██████████| 79/79 [00:02<00:00, 32.55it/s, train_acc=98.5, train_loss=1.48]\n"
          ]
        },
        {
          "output_type": "stream",
          "name": "stdout",
          "text": [
            "EPOCH 7/150 :\n"
          ]
        },
        {
          "output_type": "stream",
          "name": "stderr",
          "text": [
            "  train: 100%|██████████| 469/469 [00:15<00:00, 30.50it/s, train_acc=99, train_loss=1.47]\n",
            "   test: 100%|██████████| 79/79 [00:02<00:00, 32.67it/s, train_acc=98.8, train_loss=1.47]\n"
          ]
        },
        {
          "output_type": "stream",
          "name": "stdout",
          "text": [
            "EPOCH 8/150 :\n"
          ]
        },
        {
          "output_type": "stream",
          "name": "stderr",
          "text": [
            "  train: 100%|██████████| 469/469 [00:16<00:00, 28.75it/s, train_acc=99.2, train_loss=1.47]\n",
            "   test: 100%|██████████| 79/79 [00:02<00:00, 32.88it/s, train_acc=98.9, train_loss=1.47]\n"
          ]
        },
        {
          "output_type": "stream",
          "name": "stdout",
          "text": [
            "EPOCH 9/150 :\n"
          ]
        },
        {
          "output_type": "stream",
          "name": "stderr",
          "text": [
            "  train: 100%|██████████| 469/469 [00:15<00:00, 30.47it/s, train_acc=99.1, train_loss=1.47]\n",
            "   test: 100%|██████████| 79/79 [00:02<00:00, 32.72it/s, train_acc=99, train_loss=1.47]\n"
          ]
        },
        {
          "output_type": "stream",
          "name": "stdout",
          "text": [
            "EPOCH 10/150 :\n"
          ]
        },
        {
          "output_type": "stream",
          "name": "stderr",
          "text": [
            "  train: 100%|██████████| 469/469 [00:15<00:00, 30.43it/s, train_acc=99.3, train_loss=1.47]\n",
            "   test: 100%|██████████| 79/79 [00:03<00:00, 22.66it/s, train_acc=99, train_loss=1.47]\n"
          ]
        },
        {
          "output_type": "stream",
          "name": "stdout",
          "text": [
            "EPOCH 11/150 :\n"
          ]
        },
        {
          "output_type": "stream",
          "name": "stderr",
          "text": [
            "  train: 100%|██████████| 469/469 [00:15<00:00, 29.86it/s, train_acc=99.4, train_loss=1.47]\n",
            "   test: 100%|██████████| 79/79 [00:02<00:00, 32.45it/s, train_acc=99, train_loss=1.47]\n"
          ]
        },
        {
          "output_type": "stream",
          "name": "stdout",
          "text": [
            "EPOCH 12/150 :\n"
          ]
        },
        {
          "output_type": "stream",
          "name": "stderr",
          "text": [
            "  train: 100%|██████████| 469/469 [00:15<00:00, 30.31it/s, train_acc=99.4, train_loss=1.47]\n",
            "   test: 100%|██████████| 79/79 [00:02<00:00, 27.76it/s, train_acc=99, train_loss=1.47]\n"
          ]
        },
        {
          "output_type": "stream",
          "name": "stdout",
          "text": [
            "EPOCH 13/150 :\n"
          ]
        },
        {
          "output_type": "stream",
          "name": "stderr",
          "text": [
            "  train: 100%|██████████| 469/469 [00:16<00:00, 29.26it/s, train_acc=99.5, train_loss=1.47]\n",
            "   test: 100%|██████████| 79/79 [00:02<00:00, 31.82it/s, train_acc=99.1, train_loss=1.47]\n"
          ]
        },
        {
          "output_type": "stream",
          "name": "stdout",
          "text": [
            "EPOCH 14/150 :\n"
          ]
        },
        {
          "output_type": "stream",
          "name": "stderr",
          "text": [
            "  train: 100%|██████████| 469/469 [00:15<00:00, 30.67it/s, train_acc=99.5, train_loss=1.47]\n",
            "   test: 100%|██████████| 79/79 [00:02<00:00, 32.29it/s, train_acc=99, train_loss=1.47]\n"
          ]
        },
        {
          "output_type": "stream",
          "name": "stdout",
          "text": [
            "EPOCH 15/150 :\n"
          ]
        },
        {
          "output_type": "stream",
          "name": "stderr",
          "text": [
            "  train: 100%|██████████| 469/469 [00:15<00:00, 29.47it/s, train_acc=99.6, train_loss=1.47]\n",
            "   test: 100%|██████████| 79/79 [00:03<00:00, 23.65it/s, train_acc=99, train_loss=1.47]\n"
          ]
        },
        {
          "output_type": "stream",
          "name": "stdout",
          "text": [
            "EPOCH 16/150 :\n"
          ]
        },
        {
          "output_type": "stream",
          "name": "stderr",
          "text": [
            "  train: 100%|██████████| 469/469 [00:15<00:00, 30.04it/s, train_acc=99.6, train_loss=1.47]\n",
            "   test: 100%|██████████| 79/79 [00:02<00:00, 32.34it/s, train_acc=99, train_loss=1.47]\n"
          ]
        },
        {
          "output_type": "stream",
          "name": "stdout",
          "text": [
            "EPOCH 17/150 :\n"
          ]
        },
        {
          "output_type": "stream",
          "name": "stderr",
          "text": [
            "  train: 100%|██████████| 469/469 [00:15<00:00, 30.25it/s, train_acc=99.6, train_loss=1.47]\n",
            "   test: 100%|██████████| 79/79 [00:03<00:00, 23.28it/s, train_acc=99, train_loss=1.47]\n"
          ]
        },
        {
          "output_type": "stream",
          "name": "stdout",
          "text": [
            "EPOCH 18/150 :\n"
          ]
        },
        {
          "output_type": "stream",
          "name": "stderr",
          "text": [
            "  train: 100%|██████████| 469/469 [00:15<00:00, 30.07it/s, train_acc=99.6, train_loss=1.47]\n",
            "   test: 100%|██████████| 79/79 [00:02<00:00, 32.60it/s, train_acc=99.1, train_loss=1.47]\n"
          ]
        },
        {
          "output_type": "stream",
          "name": "stdout",
          "text": [
            "EPOCH 19/150 :\n"
          ]
        },
        {
          "output_type": "stream",
          "name": "stderr",
          "text": [
            "  train: 100%|██████████| 469/469 [00:15<00:00, 29.99it/s, train_acc=99.6, train_loss=1.47]\n",
            "   test: 100%|██████████| 79/79 [00:02<00:00, 32.04it/s, train_acc=99.1, train_loss=1.47]\n"
          ]
        },
        {
          "output_type": "stream",
          "name": "stdout",
          "text": [
            "EPOCH 20/150 :\n"
          ]
        },
        {
          "output_type": "stream",
          "name": "stderr",
          "text": [
            "  train: 100%|██████████| 469/469 [00:16<00:00, 27.92it/s, train_acc=99.7, train_loss=1.46]\n",
            "   test: 100%|██████████| 79/79 [00:02<00:00, 31.83it/s, train_acc=99.1, train_loss=1.47]\n"
          ]
        },
        {
          "output_type": "stream",
          "name": "stdout",
          "text": [
            "EPOCH 21/150 :\n"
          ]
        },
        {
          "output_type": "stream",
          "name": "stderr",
          "text": [
            "  train: 100%|██████████| 469/469 [00:15<00:00, 29.78it/s, train_acc=99.6, train_loss=1.47]\n",
            "   test: 100%|██████████| 79/79 [00:02<00:00, 32.23it/s, train_acc=98.9, train_loss=1.47]\n"
          ]
        },
        {
          "output_type": "stream",
          "name": "stdout",
          "text": [
            "EPOCH 22/150 :\n"
          ]
        },
        {
          "output_type": "stream",
          "name": "stderr",
          "text": [
            "  train: 100%|██████████| 469/469 [00:15<00:00, 29.42it/s, train_acc=99.7, train_loss=1.46]\n",
            "   test: 100%|██████████| 79/79 [00:03<00:00, 25.08it/s, train_acc=99, train_loss=1.47]\n"
          ]
        },
        {
          "output_type": "stream",
          "name": "stdout",
          "text": [
            "EPOCH 23/150 :\n"
          ]
        },
        {
          "output_type": "stream",
          "name": "stderr",
          "text": [
            "  train: 100%|██████████| 469/469 [00:15<00:00, 30.11it/s, train_acc=99.7, train_loss=1.46]\n",
            "   test: 100%|██████████| 79/79 [00:02<00:00, 32.53it/s, train_acc=99, train_loss=1.47]\n"
          ]
        },
        {
          "output_type": "stream",
          "name": "stdout",
          "text": [
            "EPOCH 24/150 :\n"
          ]
        },
        {
          "output_type": "stream",
          "name": "stderr",
          "text": [
            "  train: 100%|██████████| 469/469 [00:15<00:00, 30.19it/s, train_acc=99.7, train_loss=1.46]\n",
            "   test: 100%|██████████| 79/79 [00:03<00:00, 25.89it/s, train_acc=99, train_loss=1.47]\n"
          ]
        },
        {
          "output_type": "stream",
          "name": "stdout",
          "text": [
            "EPOCH 25/150 :\n"
          ]
        },
        {
          "output_type": "stream",
          "name": "stderr",
          "text": [
            "  train: 100%|██████████| 469/469 [00:16<00:00, 28.95it/s, train_acc=99.7, train_loss=1.46]\n",
            "   test: 100%|██████████| 79/79 [00:02<00:00, 32.19it/s, train_acc=99.1, train_loss=1.47]\n"
          ]
        },
        {
          "output_type": "stream",
          "name": "stdout",
          "text": [
            "EPOCH 26/150 :\n"
          ]
        },
        {
          "output_type": "stream",
          "name": "stderr",
          "text": [
            "  train: 100%|██████████| 469/469 [00:15<00:00, 30.33it/s, train_acc=99.7, train_loss=1.46]\n",
            "   test: 100%|██████████| 79/79 [00:02<00:00, 32.26it/s, train_acc=99.1, train_loss=1.47]\n"
          ]
        },
        {
          "output_type": "stream",
          "name": "stdout",
          "text": [
            "EPOCH 27/150 :\n"
          ]
        },
        {
          "output_type": "stream",
          "name": "stderr",
          "text": [
            "  train: 100%|██████████| 469/469 [00:16<00:00, 28.72it/s, train_acc=99.8, train_loss=1.46]\n",
            "   test: 100%|██████████| 79/79 [00:02<00:00, 29.57it/s, train_acc=99.1, train_loss=1.47]\n"
          ]
        },
        {
          "output_type": "stream",
          "name": "stdout",
          "text": [
            "EPOCH 28/150 :\n"
          ]
        },
        {
          "output_type": "stream",
          "name": "stderr",
          "text": [
            "  train: 100%|██████████| 469/469 [00:15<00:00, 30.16it/s, train_acc=99.8, train_loss=1.46]\n",
            "   test: 100%|██████████| 79/79 [00:02<00:00, 32.21it/s, train_acc=99.1, train_loss=1.47]\n"
          ]
        },
        {
          "output_type": "stream",
          "name": "stdout",
          "text": [
            "EPOCH 29/150 :\n"
          ]
        },
        {
          "output_type": "stream",
          "name": "stderr",
          "text": [
            "  train: 100%|██████████| 469/469 [00:15<00:00, 30.01it/s, train_acc=99.8, train_loss=1.46]\n",
            "   test: 100%|██████████| 79/79 [00:03<00:00, 22.73it/s, train_acc=99.1, train_loss=1.47]\n"
          ]
        },
        {
          "output_type": "stream",
          "name": "stdout",
          "text": [
            "EPOCH 30/150 :\n"
          ]
        },
        {
          "output_type": "stream",
          "name": "stderr",
          "text": [
            "  train: 100%|██████████| 469/469 [00:15<00:00, 29.94it/s, train_acc=99.8, train_loss=1.46]\n",
            "   test: 100%|██████████| 79/79 [00:02<00:00, 32.39it/s, train_acc=99.1, train_loss=1.47]\n"
          ]
        },
        {
          "output_type": "stream",
          "name": "stdout",
          "text": [
            "EPOCH 31/150 :\n"
          ]
        },
        {
          "output_type": "stream",
          "name": "stderr",
          "text": [
            "  train: 100%|██████████| 469/469 [00:15<00:00, 30.37it/s, train_acc=99.8, train_loss=1.46]\n",
            "   test: 100%|██████████| 79/79 [00:02<00:00, 33.16it/s, train_acc=99.1, train_loss=1.47]\n"
          ]
        },
        {
          "output_type": "stream",
          "name": "stdout",
          "text": [
            "EPOCH 32/150 :\n"
          ]
        },
        {
          "output_type": "stream",
          "name": "stderr",
          "text": [
            "  train: 100%|██████████| 469/469 [00:16<00:00, 28.11it/s, train_acc=99.8, train_loss=1.46]\n",
            "   test: 100%|██████████| 79/79 [00:02<00:00, 32.16it/s, train_acc=99.1, train_loss=1.47]\n"
          ]
        },
        {
          "output_type": "stream",
          "name": "stdout",
          "text": [
            "EPOCH 33/150 :\n"
          ]
        },
        {
          "output_type": "stream",
          "name": "stderr",
          "text": [
            "  train: 100%|██████████| 469/469 [00:15<00:00, 29.76it/s, train_acc=99.8, train_loss=1.46]\n",
            "   test: 100%|██████████| 79/79 [00:02<00:00, 32.41it/s, train_acc=99.1, train_loss=1.47]\n"
          ]
        },
        {
          "output_type": "stream",
          "name": "stdout",
          "text": [
            "EPOCH 34/150 :\n"
          ]
        },
        {
          "output_type": "stream",
          "name": "stderr",
          "text": [
            "  train: 100%|██████████| 469/469 [00:15<00:00, 29.54it/s, train_acc=99.8, train_loss=1.46]\n",
            "   test: 100%|██████████| 79/79 [00:03<00:00, 23.46it/s, train_acc=99.1, train_loss=1.47]\n"
          ]
        },
        {
          "output_type": "stream",
          "name": "stdout",
          "text": [
            "EPOCH 35/150 :\n"
          ]
        },
        {
          "output_type": "stream",
          "name": "stderr",
          "text": [
            "  train: 100%|██████████| 469/469 [00:15<00:00, 30.07it/s, train_acc=99.8, train_loss=1.46]\n",
            "   test: 100%|██████████| 79/79 [00:02<00:00, 31.90it/s, train_acc=99.1, train_loss=1.47]\n"
          ]
        },
        {
          "output_type": "stream",
          "name": "stdout",
          "text": [
            "EPOCH 36/150 :\n"
          ]
        },
        {
          "output_type": "stream",
          "name": "stderr",
          "text": [
            "  train: 100%|██████████| 469/469 [00:15<00:00, 29.88it/s, train_acc=99.8, train_loss=1.46]\n",
            "   test: 100%|██████████| 79/79 [00:02<00:00, 27.56it/s, train_acc=99.1, train_loss=1.47]\n"
          ]
        },
        {
          "output_type": "stream",
          "name": "stdout",
          "text": [
            "EPOCH 37/150 :\n"
          ]
        },
        {
          "output_type": "stream",
          "name": "stderr",
          "text": [
            "  train: 100%|██████████| 469/469 [00:16<00:00, 28.51it/s, train_acc=99.8, train_loss=1.46]\n",
            "   test: 100%|██████████| 79/79 [00:02<00:00, 31.67it/s, train_acc=99.1, train_loss=1.47]\n"
          ]
        },
        {
          "output_type": "stream",
          "name": "stdout",
          "text": [
            "EPOCH 38/150 :\n"
          ]
        },
        {
          "output_type": "stream",
          "name": "stderr",
          "text": [
            "  train: 100%|██████████| 469/469 [00:15<00:00, 29.79it/s, train_acc=99.8, train_loss=1.46]\n",
            "   test: 100%|██████████| 79/79 [00:02<00:00, 30.94it/s, train_acc=99, train_loss=1.47]\n"
          ]
        },
        {
          "output_type": "stream",
          "name": "stdout",
          "text": [
            "EPOCH 39/150 :\n"
          ]
        },
        {
          "output_type": "stream",
          "name": "stderr",
          "text": [
            "  train: 100%|██████████| 469/469 [00:16<00:00, 28.02it/s, train_acc=99.8, train_loss=1.46]\n",
            "   test: 100%|██████████| 79/79 [00:02<00:00, 32.12it/s, train_acc=99.1, train_loss=1.47]\n"
          ]
        },
        {
          "output_type": "stream",
          "name": "stdout",
          "text": [
            "EPOCH 40/150 :\n"
          ]
        },
        {
          "output_type": "stream",
          "name": "stderr",
          "text": [
            "  train: 100%|██████████| 469/469 [00:15<00:00, 30.04it/s, train_acc=99.8, train_loss=1.46]\n",
            "   test: 100%|██████████| 79/79 [00:02<00:00, 32.13it/s, train_acc=99.1, train_loss=1.47]\n"
          ]
        },
        {
          "output_type": "stream",
          "name": "stdout",
          "text": [
            "EPOCH 41/150 :\n"
          ]
        },
        {
          "output_type": "stream",
          "name": "stderr",
          "text": [
            "  train: 100%|██████████| 469/469 [00:15<00:00, 29.44it/s, train_acc=99.8, train_loss=1.46]\n",
            "   test: 100%|██████████| 79/79 [00:03<00:00, 23.71it/s, train_acc=99.1, train_loss=1.47]\n"
          ]
        },
        {
          "output_type": "stream",
          "name": "stdout",
          "text": [
            "EPOCH 42/150 :\n"
          ]
        },
        {
          "output_type": "stream",
          "name": "stderr",
          "text": [
            "  train: 100%|██████████| 469/469 [00:15<00:00, 29.66it/s, train_acc=99.8, train_loss=1.46]\n",
            "   test: 100%|██████████| 79/79 [00:02<00:00, 31.82it/s, train_acc=99, train_loss=1.47]\n"
          ]
        },
        {
          "output_type": "stream",
          "name": "stdout",
          "text": [
            "EPOCH 43/150 :\n"
          ]
        },
        {
          "output_type": "stream",
          "name": "stderr",
          "text": [
            "  train: 100%|██████████| 469/469 [00:15<00:00, 29.87it/s, train_acc=99.8, train_loss=1.46]\n",
            "   test: 100%|██████████| 79/79 [00:03<00:00, 25.89it/s, train_acc=99.1, train_loss=1.47]\n"
          ]
        },
        {
          "output_type": "stream",
          "name": "stdout",
          "text": [
            "EPOCH 44/150 :\n"
          ]
        },
        {
          "output_type": "stream",
          "name": "stderr",
          "text": [
            "  train: 100%|██████████| 469/469 [00:16<00:00, 29.26it/s, train_acc=99.8, train_loss=1.46]\n",
            "   test: 100%|██████████| 79/79 [00:02<00:00, 32.10it/s, train_acc=99, train_loss=1.47]\n"
          ]
        },
        {
          "output_type": "stream",
          "name": "stdout",
          "text": [
            "EPOCH 45/150 :\n"
          ]
        },
        {
          "output_type": "stream",
          "name": "stderr",
          "text": [
            "  train: 100%|██████████| 469/469 [00:15<00:00, 29.50it/s, train_acc=99.8, train_loss=1.46]\n",
            "   test: 100%|██████████| 79/79 [00:02<00:00, 31.88it/s, train_acc=99.1, train_loss=1.47]\n"
          ]
        },
        {
          "output_type": "stream",
          "name": "stdout",
          "text": [
            "EPOCH 46/150 :\n"
          ]
        },
        {
          "output_type": "stream",
          "name": "stderr",
          "text": [
            "  train: 100%|██████████| 469/469 [00:16<00:00, 27.91it/s, train_acc=99.8, train_loss=1.46]\n",
            "   test: 100%|██████████| 79/79 [00:02<00:00, 31.54it/s, train_acc=99.1, train_loss=1.47]\n"
          ]
        },
        {
          "output_type": "stream",
          "name": "stdout",
          "text": [
            "EPOCH 47/150 :\n"
          ]
        },
        {
          "output_type": "stream",
          "name": "stderr",
          "text": [
            "  train: 100%|██████████| 469/469 [00:15<00:00, 29.53it/s, train_acc=99.8, train_loss=1.46]\n",
            "   test: 100%|██████████| 79/79 [00:02<00:00, 32.43it/s, train_acc=99.1, train_loss=1.47]\n"
          ]
        },
        {
          "output_type": "stream",
          "name": "stdout",
          "text": [
            "EPOCH 48/150 :\n"
          ]
        },
        {
          "output_type": "stream",
          "name": "stderr",
          "text": [
            "  train: 100%|██████████| 469/469 [00:16<00:00, 29.02it/s, train_acc=99.8, train_loss=1.46]\n",
            "   test: 100%|██████████| 79/79 [00:03<00:00, 23.84it/s, train_acc=99.1, train_loss=1.47]\n"
          ]
        },
        {
          "output_type": "stream",
          "name": "stdout",
          "text": [
            "EPOCH 49/150 :\n"
          ]
        },
        {
          "output_type": "stream",
          "name": "stderr",
          "text": [
            "  train: 100%|██████████| 469/469 [00:15<00:00, 29.75it/s, train_acc=99.8, train_loss=1.46]\n",
            "   test: 100%|██████████| 79/79 [00:02<00:00, 32.02it/s, train_acc=99.1, train_loss=1.47]\n"
          ]
        },
        {
          "output_type": "stream",
          "name": "stdout",
          "text": [
            "EPOCH 50/150 :\n"
          ]
        },
        {
          "output_type": "stream",
          "name": "stderr",
          "text": [
            "  train: 100%|██████████| 469/469 [00:15<00:00, 29.72it/s, train_acc=99.8, train_loss=1.46]\n",
            "   test: 100%|██████████| 79/79 [00:03<00:00, 23.99it/s, train_acc=99, train_loss=1.47]\n"
          ]
        },
        {
          "output_type": "stream",
          "name": "stdout",
          "text": [
            "EPOCH 51/150 :\n"
          ]
        },
        {
          "output_type": "stream",
          "name": "stderr",
          "text": [
            "  train: 100%|██████████| 469/469 [00:16<00:00, 28.98it/s, train_acc=99.8, train_loss=1.46]\n",
            "   test: 100%|██████████| 79/79 [00:02<00:00, 31.87it/s, train_acc=99, train_loss=1.47]\n"
          ]
        },
        {
          "output_type": "stream",
          "name": "stdout",
          "text": [
            "EPOCH 52/150 :\n"
          ]
        },
        {
          "output_type": "stream",
          "name": "stderr",
          "text": [
            "  train: 100%|██████████| 469/469 [00:15<00:00, 29.53it/s, train_acc=99.8, train_loss=1.46]\n",
            "   test: 100%|██████████| 79/79 [00:02<00:00, 30.53it/s, train_acc=99, train_loss=1.47]\n"
          ]
        },
        {
          "output_type": "stream",
          "name": "stdout",
          "text": [
            "EPOCH 53/150 :\n"
          ]
        },
        {
          "output_type": "stream",
          "name": "stderr",
          "text": [
            "  train: 100%|██████████| 469/469 [00:16<00:00, 28.02it/s, train_acc=99.8, train_loss=1.46]\n",
            "   test: 100%|██████████| 79/79 [00:02<00:00, 31.75it/s, train_acc=99.1, train_loss=1.47]\n"
          ]
        },
        {
          "output_type": "stream",
          "name": "stdout",
          "text": [
            "EPOCH 54/150 :\n"
          ]
        },
        {
          "output_type": "stream",
          "name": "stderr",
          "text": [
            "  train: 100%|██████████| 469/469 [00:15<00:00, 29.52it/s, train_acc=99.8, train_loss=1.46]\n",
            "   test: 100%|██████████| 79/79 [00:02<00:00, 31.58it/s, train_acc=99.1, train_loss=1.47]\n"
          ]
        },
        {
          "output_type": "stream",
          "name": "stdout",
          "text": [
            "EPOCH 55/150 :\n"
          ]
        },
        {
          "output_type": "stream",
          "name": "stderr",
          "text": [
            "  train: 100%|██████████| 469/469 [00:16<00:00, 28.73it/s, train_acc=99.8, train_loss=1.46]\n",
            "   test: 100%|██████████| 79/79 [00:02<00:00, 27.28it/s, train_acc=99.1, train_loss=1.47]\n"
          ]
        },
        {
          "output_type": "stream",
          "name": "stdout",
          "text": [
            "EPOCH 56/150 :\n"
          ]
        },
        {
          "output_type": "stream",
          "name": "stderr",
          "text": [
            "  train: 100%|██████████| 469/469 [00:15<00:00, 29.52it/s, train_acc=99.8, train_loss=1.46]\n",
            "   test: 100%|██████████| 79/79 [00:02<00:00, 31.42it/s, train_acc=99.1, train_loss=1.47]\n"
          ]
        },
        {
          "output_type": "stream",
          "name": "stdout",
          "text": [
            "EPOCH 57/150 :\n"
          ]
        },
        {
          "output_type": "stream",
          "name": "stderr",
          "text": [
            "  train: 100%|██████████| 469/469 [00:15<00:00, 29.77it/s, train_acc=99.8, train_loss=1.46]\n",
            "   test: 100%|██████████| 79/79 [00:03<00:00, 22.45it/s, train_acc=99.1, train_loss=1.47]\n"
          ]
        },
        {
          "output_type": "stream",
          "name": "stdout",
          "text": [
            "EPOCH 58/150 :\n"
          ]
        },
        {
          "output_type": "stream",
          "name": "stderr",
          "text": [
            "  train: 100%|██████████| 469/469 [00:15<00:00, 29.67it/s, train_acc=99.8, train_loss=1.46]\n",
            "   test: 100%|██████████| 79/79 [00:02<00:00, 31.83it/s, train_acc=99.1, train_loss=1.47]\n"
          ]
        },
        {
          "output_type": "stream",
          "name": "stdout",
          "text": [
            "EPOCH 59/150 :\n"
          ]
        },
        {
          "output_type": "stream",
          "name": "stderr",
          "text": [
            "  train: 100%|██████████| 469/469 [00:15<00:00, 29.79it/s, train_acc=99.8, train_loss=1.46]\n",
            "   test: 100%|██████████| 79/79 [00:02<00:00, 29.30it/s, train_acc=99.1, train_loss=1.47]\n"
          ]
        },
        {
          "output_type": "stream",
          "name": "stdout",
          "text": [
            "EPOCH 60/150 :\n"
          ]
        },
        {
          "output_type": "stream",
          "name": "stderr",
          "text": [
            "  train: 100%|██████████| 469/469 [00:16<00:00, 28.11it/s, train_acc=99.8, train_loss=1.46]\n",
            "   test: 100%|██████████| 79/79 [00:02<00:00, 31.86it/s, train_acc=99.1, train_loss=1.47]\n"
          ]
        },
        {
          "output_type": "stream",
          "name": "stdout",
          "text": [
            "EPOCH 61/150 :\n"
          ]
        },
        {
          "output_type": "stream",
          "name": "stderr",
          "text": [
            "  train: 100%|██████████| 469/469 [00:15<00:00, 29.84it/s, train_acc=99.8, train_loss=1.46]\n",
            "   test: 100%|██████████| 79/79 [00:02<00:00, 32.31it/s, train_acc=99.1, train_loss=1.47]\n"
          ]
        },
        {
          "output_type": "stream",
          "name": "stdout",
          "text": [
            "EPOCH 62/150 :\n"
          ]
        },
        {
          "output_type": "stream",
          "name": "stderr",
          "text": [
            "  train: 100%|██████████| 469/469 [00:16<00:00, 28.79it/s, train_acc=99.8, train_loss=1.46]\n",
            "   test: 100%|██████████| 79/79 [00:02<00:00, 26.75it/s, train_acc=99.1, train_loss=1.47]\n"
          ]
        },
        {
          "output_type": "stream",
          "name": "stdout",
          "text": [
            "EPOCH 63/150 :\n"
          ]
        },
        {
          "output_type": "stream",
          "name": "stderr",
          "text": [
            "  train: 100%|██████████| 469/469 [00:15<00:00, 29.97it/s, train_acc=99.8, train_loss=1.46]\n",
            "   test: 100%|██████████| 79/79 [00:02<00:00, 32.06it/s, train_acc=99.1, train_loss=1.47]\n"
          ]
        },
        {
          "output_type": "stream",
          "name": "stdout",
          "text": [
            "EPOCH 64/150 :\n"
          ]
        },
        {
          "output_type": "stream",
          "name": "stderr",
          "text": [
            "  train: 100%|██████████| 469/469 [00:15<00:00, 29.54it/s, train_acc=99.8, train_loss=1.46]\n",
            "   test: 100%|██████████| 79/79 [00:03<00:00, 22.95it/s, train_acc=99.1, train_loss=1.47]\n"
          ]
        },
        {
          "output_type": "stream",
          "name": "stdout",
          "text": [
            "EPOCH 65/150 :\n"
          ]
        },
        {
          "output_type": "stream",
          "name": "stderr",
          "text": [
            "  train: 100%|██████████| 469/469 [00:15<00:00, 29.38it/s, train_acc=99.8, train_loss=1.46]\n",
            "   test: 100%|██████████| 79/79 [00:02<00:00, 31.45it/s, train_acc=99.1, train_loss=1.47]\n"
          ]
        },
        {
          "output_type": "stream",
          "name": "stdout",
          "text": [
            "EPOCH 66/150 :\n"
          ]
        },
        {
          "output_type": "stream",
          "name": "stderr",
          "text": [
            "  train: 100%|██████████| 469/469 [00:16<00:00, 29.19it/s, train_acc=99.8, train_loss=1.46]\n",
            "   test: 100%|██████████| 79/79 [00:02<00:00, 27.30it/s, train_acc=99.1, train_loss=1.47]\n"
          ]
        },
        {
          "output_type": "stream",
          "name": "stdout",
          "text": [
            "EPOCH 67/150 :\n"
          ]
        },
        {
          "output_type": "stream",
          "name": "stderr",
          "text": [
            "  train: 100%|██████████| 469/469 [00:16<00:00, 28.26it/s, train_acc=99.8, train_loss=1.46]\n",
            "   test: 100%|██████████| 79/79 [00:02<00:00, 31.09it/s, train_acc=99.1, train_loss=1.47]\n"
          ]
        },
        {
          "output_type": "stream",
          "name": "stdout",
          "text": [
            "EPOCH 68/150 :\n"
          ]
        },
        {
          "output_type": "stream",
          "name": "stderr",
          "text": [
            "  train: 100%|██████████| 469/469 [00:16<00:00, 29.17it/s, train_acc=99.8, train_loss=1.46]\n",
            "   test: 100%|██████████| 79/79 [00:02<00:00, 32.13it/s, train_acc=99.1, train_loss=1.47]\n"
          ]
        },
        {
          "output_type": "stream",
          "name": "stdout",
          "text": [
            "EPOCH 69/150 :\n"
          ]
        },
        {
          "output_type": "stream",
          "name": "stderr",
          "text": [
            "  train: 100%|██████████| 469/469 [00:17<00:00, 27.53it/s, train_acc=99.8, train_loss=1.46]\n",
            "   test: 100%|██████████| 79/79 [00:02<00:00, 31.38it/s, train_acc=99.1, train_loss=1.47]\n"
          ]
        },
        {
          "output_type": "stream",
          "name": "stdout",
          "text": [
            "EPOCH 70/150 :\n"
          ]
        },
        {
          "output_type": "stream",
          "name": "stderr",
          "text": [
            "  train: 100%|██████████| 469/469 [00:15<00:00, 29.65it/s, train_acc=99.8, train_loss=1.46]\n",
            "   test: 100%|██████████| 79/79 [00:02<00:00, 31.25it/s, train_acc=99.1, train_loss=1.47]\n"
          ]
        },
        {
          "output_type": "stream",
          "name": "stdout",
          "text": [
            "EPOCH 71/150 :\n"
          ]
        },
        {
          "output_type": "stream",
          "name": "stderr",
          "text": [
            "  train: 100%|██████████| 469/469 [00:16<00:00, 28.56it/s, train_acc=99.8, train_loss=1.46]\n",
            "   test: 100%|██████████| 79/79 [00:03<00:00, 25.22it/s, train_acc=99.1, train_loss=1.47]\n"
          ]
        },
        {
          "output_type": "stream",
          "name": "stdout",
          "text": [
            "EPOCH 72/150 :\n"
          ]
        },
        {
          "output_type": "stream",
          "name": "stderr",
          "text": [
            "  train: 100%|██████████| 469/469 [00:15<00:00, 29.81it/s, train_acc=99.8, train_loss=1.46]\n",
            "   test: 100%|██████████| 79/79 [00:02<00:00, 31.60it/s, train_acc=99.1, train_loss=1.47]\n"
          ]
        },
        {
          "output_type": "stream",
          "name": "stdout",
          "text": [
            "EPOCH 73/150 :\n"
          ]
        },
        {
          "output_type": "stream",
          "name": "stderr",
          "text": [
            "  train: 100%|██████████| 469/469 [00:15<00:00, 29.43it/s, train_acc=99.8, train_loss=1.46]\n",
            "   test: 100%|██████████| 79/79 [00:03<00:00, 22.41it/s, train_acc=99.1, train_loss=1.47]\n"
          ]
        },
        {
          "output_type": "stream",
          "name": "stdout",
          "text": [
            "EPOCH 74/150 :\n"
          ]
        },
        {
          "output_type": "stream",
          "name": "stderr",
          "text": [
            "  train: 100%|██████████| 469/469 [00:16<00:00, 28.89it/s, train_acc=99.8, train_loss=1.46]\n",
            "   test: 100%|██████████| 79/79 [00:02<00:00, 31.55it/s, train_acc=99.1, train_loss=1.47]\n"
          ]
        },
        {
          "output_type": "stream",
          "name": "stdout",
          "text": [
            "EPOCH 75/150 :\n"
          ]
        },
        {
          "output_type": "stream",
          "name": "stderr",
          "text": [
            "  train: 100%|██████████| 469/469 [00:15<00:00, 29.47it/s, train_acc=99.8, train_loss=1.46]\n",
            "   test: 100%|██████████| 79/79 [00:02<00:00, 27.14it/s, train_acc=99.1, train_loss=1.47]\n"
          ]
        },
        {
          "output_type": "stream",
          "name": "stdout",
          "text": [
            "EPOCH 76/150 :\n"
          ]
        },
        {
          "output_type": "stream",
          "name": "stderr",
          "text": [
            "  train: 100%|██████████| 469/469 [00:16<00:00, 28.13it/s, train_acc=99.8, train_loss=1.46]\n",
            "   test: 100%|██████████| 79/79 [00:02<00:00, 31.30it/s, train_acc=99.1, train_loss=1.47]\n"
          ]
        },
        {
          "output_type": "stream",
          "name": "stdout",
          "text": [
            "EPOCH 77/150 :\n"
          ]
        },
        {
          "output_type": "stream",
          "name": "stderr",
          "text": [
            "  train: 100%|██████████| 469/469 [00:15<00:00, 29.58it/s, train_acc=99.8, train_loss=1.46]\n",
            "   test: 100%|██████████| 79/79 [00:02<00:00, 31.82it/s, train_acc=99.1, train_loss=1.47]\n"
          ]
        },
        {
          "output_type": "stream",
          "name": "stdout",
          "text": [
            "EPOCH 78/150 :\n"
          ]
        },
        {
          "output_type": "stream",
          "name": "stderr",
          "text": [
            "  train: 100%|██████████| 469/469 [00:17<00:00, 27.56it/s, train_acc=99.8, train_loss=1.46]\n",
            "   test: 100%|██████████| 79/79 [00:02<00:00, 31.20it/s, train_acc=99.1, train_loss=1.47]\n"
          ]
        },
        {
          "output_type": "stream",
          "name": "stdout",
          "text": [
            "EPOCH 79/150 :\n"
          ]
        },
        {
          "output_type": "stream",
          "name": "stderr",
          "text": [
            "  train: 100%|██████████| 469/469 [00:15<00:00, 29.62it/s, train_acc=99.8, train_loss=1.46]\n",
            "   test: 100%|██████████| 79/79 [00:02<00:00, 31.55it/s, train_acc=99.1, train_loss=1.47]\n"
          ]
        },
        {
          "output_type": "stream",
          "name": "stdout",
          "text": [
            "EPOCH 80/150 :\n"
          ]
        },
        {
          "output_type": "stream",
          "name": "stderr",
          "text": [
            "  train: 100%|██████████| 469/469 [00:16<00:00, 28.23it/s, train_acc=99.8, train_loss=1.46]\n",
            "   test: 100%|██████████| 79/79 [00:02<00:00, 26.34it/s, train_acc=99.1, train_loss=1.47]\n"
          ]
        },
        {
          "output_type": "stream",
          "name": "stdout",
          "text": [
            "EPOCH 81/150 :\n"
          ]
        },
        {
          "output_type": "stream",
          "name": "stderr",
          "text": [
            "  train: 100%|██████████| 469/469 [00:16<00:00, 29.17it/s, train_acc=99.8, train_loss=1.46]\n",
            "   test: 100%|██████████| 79/79 [00:02<00:00, 31.20it/s, train_acc=99.1, train_loss=1.47]\n"
          ]
        },
        {
          "output_type": "stream",
          "name": "stdout",
          "text": [
            "EPOCH 82/150 :\n"
          ]
        },
        {
          "output_type": "stream",
          "name": "stderr",
          "text": [
            "  train: 100%|██████████| 469/469 [00:16<00:00, 29.26it/s, train_acc=99.8, train_loss=1.46]\n",
            "   test: 100%|██████████| 79/79 [00:03<00:00, 21.71it/s, train_acc=99.1, train_loss=1.47]\n"
          ]
        },
        {
          "output_type": "stream",
          "name": "stdout",
          "text": [
            "EPOCH 83/150 :\n"
          ]
        },
        {
          "output_type": "stream",
          "name": "stderr",
          "text": [
            "  train: 100%|██████████| 469/469 [00:16<00:00, 28.78it/s, train_acc=99.8, train_loss=1.46]\n",
            "   test: 100%|██████████| 79/79 [00:02<00:00, 30.46it/s, train_acc=99, train_loss=1.47]\n"
          ]
        },
        {
          "output_type": "stream",
          "name": "stdout",
          "text": [
            "EPOCH 84/150 :\n"
          ]
        },
        {
          "output_type": "stream",
          "name": "stderr",
          "text": [
            "  train: 100%|██████████| 469/469 [00:16<00:00, 28.72it/s, train_acc=99.8, train_loss=1.46]\n",
            "   test: 100%|██████████| 79/79 [00:03<00:00, 23.07it/s, train_acc=99.1, train_loss=1.47]\n"
          ]
        },
        {
          "output_type": "stream",
          "name": "stdout",
          "text": [
            "EPOCH 85/150 :\n"
          ]
        },
        {
          "output_type": "stream",
          "name": "stderr",
          "text": [
            "  train: 100%|██████████| 469/469 [00:16<00:00, 28.42it/s, train_acc=99.8, train_loss=1.46]\n",
            "   test: 100%|██████████| 79/79 [00:02<00:00, 30.42it/s, train_acc=99.1, train_loss=1.47]\n"
          ]
        },
        {
          "output_type": "stream",
          "name": "stdout",
          "text": [
            "EPOCH 86/150 :\n"
          ]
        },
        {
          "output_type": "stream",
          "name": "stderr",
          "text": [
            "  train: 100%|██████████| 469/469 [00:16<00:00, 28.65it/s, train_acc=99.8, train_loss=1.46]\n",
            "   test: 100%|██████████| 79/79 [00:02<00:00, 26.44it/s, train_acc=99.1, train_loss=1.47]\n"
          ]
        },
        {
          "output_type": "stream",
          "name": "stdout",
          "text": [
            "EPOCH 87/150 :\n"
          ]
        },
        {
          "output_type": "stream",
          "name": "stderr",
          "text": [
            "  train: 100%|██████████| 469/469 [00:16<00:00, 27.92it/s, train_acc=99.8, train_loss=1.46]\n",
            "   test: 100%|██████████| 79/79 [00:02<00:00, 31.09it/s, train_acc=99.1, train_loss=1.47]\n"
          ]
        },
        {
          "output_type": "stream",
          "name": "stdout",
          "text": [
            "EPOCH 88/150 :\n"
          ]
        },
        {
          "output_type": "stream",
          "name": "stderr",
          "text": [
            "  train: 100%|██████████| 469/469 [00:16<00:00, 28.91it/s, train_acc=99.8, train_loss=1.46]\n",
            "   test: 100%|██████████| 79/79 [00:02<00:00, 30.53it/s, train_acc=99, train_loss=1.47]\n"
          ]
        },
        {
          "output_type": "stream",
          "name": "stdout",
          "text": [
            "EPOCH 89/150 :\n"
          ]
        },
        {
          "output_type": "stream",
          "name": "stderr",
          "text": [
            "  train: 100%|██████████| 469/469 [00:17<00:00, 27.27it/s, train_acc=99.8, train_loss=1.46]\n",
            "   test: 100%|██████████| 79/79 [00:02<00:00, 30.43it/s, train_acc=99.1, train_loss=1.47]\n"
          ]
        },
        {
          "output_type": "stream",
          "name": "stdout",
          "text": [
            "EPOCH 90/150 :\n"
          ]
        },
        {
          "output_type": "stream",
          "name": "stderr",
          "text": [
            "  train: 100%|██████████| 469/469 [00:16<00:00, 27.97it/s, train_acc=99.8, train_loss=1.46]\n",
            "   test: 100%|██████████| 79/79 [00:02<00:00, 29.78it/s, train_acc=99.1, train_loss=1.47]\n"
          ]
        },
        {
          "output_type": "stream",
          "name": "stdout",
          "text": [
            "EPOCH 91/150 :\n"
          ]
        },
        {
          "output_type": "stream",
          "name": "stderr",
          "text": [
            "  train: 100%|██████████| 469/469 [00:17<00:00, 26.27it/s, train_acc=99.8, train_loss=1.46]\n",
            "   test: 100%|██████████| 79/79 [00:02<00:00, 30.14it/s, train_acc=99.1, train_loss=1.47]\n"
          ]
        },
        {
          "output_type": "stream",
          "name": "stdout",
          "text": [
            "EPOCH 92/150 :\n"
          ]
        },
        {
          "output_type": "stream",
          "name": "stderr",
          "text": [
            "  train: 100%|██████████| 469/469 [00:16<00:00, 28.37it/s, train_acc=99.8, train_loss=1.46]\n",
            "   test: 100%|██████████| 79/79 [00:02<00:00, 28.92it/s, train_acc=99, train_loss=1.47]\n"
          ]
        },
        {
          "output_type": "stream",
          "name": "stdout",
          "text": [
            "EPOCH 93/150 :\n"
          ]
        },
        {
          "output_type": "stream",
          "name": "stderr",
          "text": [
            "  train: 100%|██████████| 469/469 [00:17<00:00, 26.91it/s, train_acc=99.8, train_loss=1.46]\n",
            "   test: 100%|██████████| 79/79 [00:02<00:00, 30.03it/s, train_acc=99.1, train_loss=1.47]\n"
          ]
        },
        {
          "output_type": "stream",
          "name": "stdout",
          "text": [
            "EPOCH 94/150 :\n"
          ]
        },
        {
          "output_type": "stream",
          "name": "stderr",
          "text": [
            "  train: 100%|██████████| 469/469 [00:16<00:00, 28.23it/s, train_acc=99.8, train_loss=1.46]\n",
            "   test: 100%|██████████| 79/79 [00:02<00:00, 30.58it/s, train_acc=99.1, train_loss=1.47]\n"
          ]
        },
        {
          "output_type": "stream",
          "name": "stdout",
          "text": [
            "EPOCH 95/150 :\n"
          ]
        },
        {
          "output_type": "stream",
          "name": "stderr",
          "text": [
            "  train: 100%|██████████| 469/469 [00:17<00:00, 26.69it/s, train_acc=99.8, train_loss=1.46]\n",
            "   test: 100%|██████████| 79/79 [00:02<00:00, 30.67it/s, train_acc=99.1, train_loss=1.47]\n"
          ]
        },
        {
          "output_type": "stream",
          "name": "stdout",
          "text": [
            "EPOCH 96/150 :\n"
          ]
        },
        {
          "output_type": "stream",
          "name": "stderr",
          "text": [
            "  train: 100%|██████████| 469/469 [00:16<00:00, 28.29it/s, train_acc=99.8, train_loss=1.46]\n",
            "   test: 100%|██████████| 79/79 [00:02<00:00, 30.50it/s, train_acc=99.1, train_loss=1.47]\n"
          ]
        },
        {
          "output_type": "stream",
          "name": "stdout",
          "text": [
            "EPOCH 97/150 :\n"
          ]
        },
        {
          "output_type": "stream",
          "name": "stderr",
          "text": [
            "  train: 100%|██████████| 469/469 [00:17<00:00, 27.21it/s, train_acc=99.8, train_loss=1.46]\n",
            "   test: 100%|██████████| 79/79 [00:02<00:00, 30.36it/s, train_acc=99.1, train_loss=1.47]\n"
          ]
        },
        {
          "output_type": "stream",
          "name": "stdout",
          "text": [
            "EPOCH 98/150 :\n"
          ]
        },
        {
          "output_type": "stream",
          "name": "stderr",
          "text": [
            "  train: 100%|██████████| 469/469 [00:16<00:00, 28.85it/s, train_acc=99.8, train_loss=1.46]\n",
            "   test: 100%|██████████| 79/79 [00:02<00:00, 30.72it/s, train_acc=99.1, train_loss=1.47]\n"
          ]
        },
        {
          "output_type": "stream",
          "name": "stdout",
          "text": [
            "EPOCH 99/150 :\n"
          ]
        },
        {
          "output_type": "stream",
          "name": "stderr",
          "text": [
            "  train: 100%|██████████| 469/469 [00:16<00:00, 27.78it/s, train_acc=99.8, train_loss=1.46]\n",
            "   test: 100%|██████████| 79/79 [00:03<00:00, 25.30it/s, train_acc=99.1, train_loss=1.47]\n"
          ]
        },
        {
          "output_type": "stream",
          "name": "stdout",
          "text": [
            "EPOCH 100/150 :\n"
          ]
        },
        {
          "output_type": "stream",
          "name": "stderr",
          "text": [
            "  train: 100%|██████████| 469/469 [00:16<00:00, 29.05it/s, train_acc=99.8, train_loss=1.46]\n",
            "   test: 100%|██████████| 79/79 [00:02<00:00, 31.12it/s, train_acc=99.1, train_loss=1.47]\n"
          ]
        },
        {
          "output_type": "stream",
          "name": "stdout",
          "text": [
            "EPOCH 101/150 :\n"
          ]
        },
        {
          "output_type": "stream",
          "name": "stderr",
          "text": [
            "  train: 100%|██████████| 469/469 [00:16<00:00, 29.03it/s, train_acc=99.8, train_loss=1.46]\n",
            "   test: 100%|██████████| 79/79 [00:03<00:00, 22.12it/s, train_acc=99.1, train_loss=1.47]\n"
          ]
        },
        {
          "output_type": "stream",
          "name": "stdout",
          "text": [
            "EPOCH 102/150 :\n"
          ]
        },
        {
          "output_type": "stream",
          "name": "stderr",
          "text": [
            "  train: 100%|██████████| 469/469 [00:16<00:00, 28.71it/s, train_acc=99.8, train_loss=1.46]\n",
            "   test: 100%|██████████| 79/79 [00:02<00:00, 30.84it/s, train_acc=99.1, train_loss=1.47]\n"
          ]
        },
        {
          "output_type": "stream",
          "name": "stdout",
          "text": [
            "EPOCH 103/150 :\n"
          ]
        },
        {
          "output_type": "stream",
          "name": "stderr",
          "text": [
            "  train: 100%|██████████| 469/469 [00:16<00:00, 28.71it/s, train_acc=99.8, train_loss=1.46]\n",
            "   test: 100%|██████████| 79/79 [00:03<00:00, 21.42it/s, train_acc=99.1, train_loss=1.47]\n"
          ]
        },
        {
          "output_type": "stream",
          "name": "stdout",
          "text": [
            "EPOCH 104/150 :\n"
          ]
        },
        {
          "output_type": "stream",
          "name": "stderr",
          "text": [
            "  train: 100%|██████████| 469/469 [00:16<00:00, 29.16it/s, train_acc=99.8, train_loss=1.46]\n",
            "   test: 100%|██████████| 79/79 [00:02<00:00, 31.16it/s, train_acc=99.1, train_loss=1.47]\n"
          ]
        },
        {
          "output_type": "stream",
          "name": "stdout",
          "text": [
            "EPOCH 105/150 :\n"
          ]
        },
        {
          "output_type": "stream",
          "name": "stderr",
          "text": [
            "  train: 100%|██████████| 469/469 [00:16<00:00, 28.88it/s, train_acc=99.8, train_loss=1.46]\n",
            "   test: 100%|██████████| 79/79 [00:03<00:00, 24.22it/s, train_acc=99.1, train_loss=1.47]\n"
          ]
        },
        {
          "output_type": "stream",
          "name": "stdout",
          "text": [
            "EPOCH 106/150 :\n"
          ]
        },
        {
          "output_type": "stream",
          "name": "stderr",
          "text": [
            "  train: 100%|██████████| 469/469 [00:16<00:00, 28.05it/s, train_acc=99.8, train_loss=1.46]\n",
            "   test: 100%|██████████| 79/79 [00:02<00:00, 30.66it/s, train_acc=99.1, train_loss=1.47]\n"
          ]
        },
        {
          "output_type": "stream",
          "name": "stdout",
          "text": [
            "EPOCH 107/150 :\n"
          ]
        },
        {
          "output_type": "stream",
          "name": "stderr",
          "text": [
            "  train: 100%|██████████| 469/469 [00:16<00:00, 28.75it/s, train_acc=99.8, train_loss=1.46]\n",
            "   test: 100%|██████████| 79/79 [00:02<00:00, 27.38it/s, train_acc=99.1, train_loss=1.47]\n"
          ]
        },
        {
          "output_type": "stream",
          "name": "stdout",
          "text": [
            "EPOCH 108/150 :\n"
          ]
        },
        {
          "output_type": "stream",
          "name": "stderr",
          "text": [
            "  train: 100%|██████████| 469/469 [00:17<00:00, 27.31it/s, train_acc=99.8, train_loss=1.46]\n",
            "   test: 100%|██████████| 79/79 [00:02<00:00, 29.87it/s, train_acc=99.1, train_loss=1.47]\n"
          ]
        },
        {
          "output_type": "stream",
          "name": "stdout",
          "text": [
            "EPOCH 109/150 :\n"
          ]
        },
        {
          "output_type": "stream",
          "name": "stderr",
          "text": [
            "  train: 100%|██████████| 469/469 [00:16<00:00, 28.63it/s, train_acc=99.8, train_loss=1.46]\n",
            "   test: 100%|██████████| 79/79 [00:02<00:00, 30.43it/s, train_acc=99.1, train_loss=1.47]\n"
          ]
        },
        {
          "output_type": "stream",
          "name": "stdout",
          "text": [
            "EPOCH 110/150 :\n"
          ]
        },
        {
          "output_type": "stream",
          "name": "stderr",
          "text": [
            "  train: 100%|██████████| 469/469 [00:17<00:00, 26.94it/s, train_acc=99.8, train_loss=1.46]\n",
            "   test: 100%|██████████| 79/79 [00:02<00:00, 30.06it/s, train_acc=99.1, train_loss=1.47]\n"
          ]
        },
        {
          "output_type": "stream",
          "name": "stdout",
          "text": [
            "EPOCH 111/150 :\n"
          ]
        },
        {
          "output_type": "stream",
          "name": "stderr",
          "text": [
            "  train: 100%|██████████| 469/469 [00:16<00:00, 28.10it/s, train_acc=99.8, train_loss=1.46]\n",
            "   test: 100%|██████████| 79/79 [00:02<00:00, 30.11it/s, train_acc=99.1, train_loss=1.47]\n"
          ]
        },
        {
          "output_type": "stream",
          "name": "stdout",
          "text": [
            "EPOCH 112/150 :\n"
          ]
        },
        {
          "output_type": "stream",
          "name": "stderr",
          "text": [
            "  train: 100%|██████████| 469/469 [00:17<00:00, 26.65it/s, train_acc=99.8, train_loss=1.46]\n",
            "   test: 100%|██████████| 79/79 [00:02<00:00, 30.25it/s, train_acc=99.1, train_loss=1.47]\n"
          ]
        },
        {
          "output_type": "stream",
          "name": "stdout",
          "text": [
            "EPOCH 113/150 :\n"
          ]
        },
        {
          "output_type": "stream",
          "name": "stderr",
          "text": [
            "  train: 100%|██████████| 469/469 [00:16<00:00, 28.51it/s, train_acc=99.8, train_loss=1.46]\n",
            "   test: 100%|██████████| 79/79 [00:02<00:00, 30.29it/s, train_acc=99.1, train_loss=1.47]\n"
          ]
        },
        {
          "output_type": "stream",
          "name": "stdout",
          "text": [
            "EPOCH 114/150 :\n"
          ]
        },
        {
          "output_type": "stream",
          "name": "stderr",
          "text": [
            "  train: 100%|██████████| 469/469 [00:17<00:00, 26.64it/s, train_acc=99.8, train_loss=1.46]\n",
            "   test: 100%|██████████| 79/79 [00:02<00:00, 29.84it/s, train_acc=99.1, train_loss=1.47]\n"
          ]
        },
        {
          "output_type": "stream",
          "name": "stdout",
          "text": [
            "EPOCH 115/150 :\n"
          ]
        },
        {
          "output_type": "stream",
          "name": "stderr",
          "text": [
            "  train: 100%|██████████| 469/469 [00:16<00:00, 28.33it/s, train_acc=99.8, train_loss=1.46]\n",
            "   test: 100%|██████████| 79/79 [00:02<00:00, 30.31it/s, train_acc=99.1, train_loss=1.47]\n"
          ]
        },
        {
          "output_type": "stream",
          "name": "stdout",
          "text": [
            "EPOCH 116/150 :\n"
          ]
        },
        {
          "output_type": "stream",
          "name": "stderr",
          "text": [
            "  train: 100%|██████████| 469/469 [00:17<00:00, 26.41it/s, train_acc=99.8, train_loss=1.46]\n",
            "   test: 100%|██████████| 79/79 [00:02<00:00, 30.35it/s, train_acc=99.1, train_loss=1.47]\n"
          ]
        },
        {
          "output_type": "stream",
          "name": "stdout",
          "text": [
            "EPOCH 117/150 :\n"
          ]
        },
        {
          "output_type": "stream",
          "name": "stderr",
          "text": [
            "  train: 100%|██████████| 469/469 [00:16<00:00, 28.30it/s, train_acc=99.8, train_loss=1.46]\n",
            "   test: 100%|██████████| 79/79 [00:02<00:00, 30.90it/s, train_acc=99.1, train_loss=1.47]\n"
          ]
        },
        {
          "output_type": "stream",
          "name": "stdout",
          "text": [
            "EPOCH 118/150 :\n"
          ]
        },
        {
          "output_type": "stream",
          "name": "stderr",
          "text": [
            "  train: 100%|██████████| 469/469 [00:17<00:00, 26.68it/s, train_acc=99.8, train_loss=1.46]\n",
            "   test: 100%|██████████| 79/79 [00:02<00:00, 28.57it/s, train_acc=99.1, train_loss=1.47]\n"
          ]
        },
        {
          "output_type": "stream",
          "name": "stdout",
          "text": [
            "EPOCH 119/150 :\n"
          ]
        },
        {
          "output_type": "stream",
          "name": "stderr",
          "text": [
            "  train: 100%|██████████| 469/469 [00:16<00:00, 28.07it/s, train_acc=99.8, train_loss=1.46]\n",
            "   test: 100%|██████████| 79/79 [00:02<00:00, 29.12it/s, train_acc=99.1, train_loss=1.47]\n"
          ]
        },
        {
          "output_type": "stream",
          "name": "stdout",
          "text": [
            "EPOCH 120/150 :\n"
          ]
        },
        {
          "output_type": "stream",
          "name": "stderr",
          "text": [
            "  train: 100%|██████████| 469/469 [00:17<00:00, 26.34it/s, train_acc=99.8, train_loss=1.46]\n",
            "   test: 100%|██████████| 79/79 [00:02<00:00, 30.56it/s, train_acc=99.1, train_loss=1.47]\n"
          ]
        },
        {
          "output_type": "stream",
          "name": "stdout",
          "text": [
            "EPOCH 121/150 :\n"
          ]
        },
        {
          "output_type": "stream",
          "name": "stderr",
          "text": [
            "  train: 100%|██████████| 469/469 [00:16<00:00, 28.04it/s, train_acc=99.8, train_loss=1.46]\n",
            "   test: 100%|██████████| 79/79 [00:02<00:00, 31.14it/s, train_acc=99.1, train_loss=1.47]\n"
          ]
        },
        {
          "output_type": "stream",
          "name": "stdout",
          "text": [
            "EPOCH 122/150 :\n"
          ]
        },
        {
          "output_type": "stream",
          "name": "stderr",
          "text": [
            "  train: 100%|██████████| 469/469 [00:16<00:00, 27.62it/s, train_acc=99.8, train_loss=1.46]\n",
            "   test: 100%|██████████| 79/79 [00:02<00:00, 28.43it/s, train_acc=99.1, train_loss=1.47]\n"
          ]
        },
        {
          "output_type": "stream",
          "name": "stdout",
          "text": [
            "EPOCH 123/150 :\n"
          ]
        },
        {
          "output_type": "stream",
          "name": "stderr",
          "text": [
            "  train: 100%|██████████| 469/469 [00:16<00:00, 28.63it/s, train_acc=99.8, train_loss=1.46]\n",
            "   test: 100%|██████████| 79/79 [00:02<00:00, 29.99it/s, train_acc=99.1, train_loss=1.47]\n"
          ]
        },
        {
          "output_type": "stream",
          "name": "stdout",
          "text": [
            "EPOCH 124/150 :\n"
          ]
        },
        {
          "output_type": "stream",
          "name": "stderr",
          "text": [
            "  train: 100%|██████████| 469/469 [00:16<00:00, 28.11it/s, train_acc=99.8, train_loss=1.46]\n",
            "   test: 100%|██████████| 79/79 [00:03<00:00, 23.00it/s, train_acc=99.1, train_loss=1.47]\n"
          ]
        },
        {
          "output_type": "stream",
          "name": "stdout",
          "text": [
            "EPOCH 125/150 :\n"
          ]
        },
        {
          "output_type": "stream",
          "name": "stderr",
          "text": [
            "  train: 100%|██████████| 469/469 [00:16<00:00, 28.31it/s, train_acc=99.8, train_loss=1.46]\n",
            "   test: 100%|██████████| 79/79 [00:02<00:00, 29.61it/s, train_acc=99.1, train_loss=1.47]\n"
          ]
        },
        {
          "output_type": "stream",
          "name": "stdout",
          "text": [
            "EPOCH 126/150 :\n"
          ]
        },
        {
          "output_type": "stream",
          "name": "stderr",
          "text": [
            "  train: 100%|██████████| 469/469 [00:17<00:00, 27.46it/s, train_acc=99.8, train_loss=1.46]\n",
            "   test: 100%|██████████| 79/79 [00:03<00:00, 22.60it/s, train_acc=99.1, train_loss=1.47]\n"
          ]
        },
        {
          "output_type": "stream",
          "name": "stdout",
          "text": [
            "EPOCH 127/150 :\n"
          ]
        },
        {
          "output_type": "stream",
          "name": "stderr",
          "text": [
            "  train: 100%|██████████| 469/469 [00:16<00:00, 27.74it/s, train_acc=99.8, train_loss=1.46]\n",
            "   test: 100%|██████████| 79/79 [00:02<00:00, 29.32it/s, train_acc=99.1, train_loss=1.47]\n"
          ]
        },
        {
          "output_type": "stream",
          "name": "stdout",
          "text": [
            "EPOCH 128/150 :\n"
          ]
        },
        {
          "output_type": "stream",
          "name": "stderr",
          "text": [
            "  train: 100%|██████████| 469/469 [00:17<00:00, 27.53it/s, train_acc=99.8, train_loss=1.46]\n",
            "   test: 100%|██████████| 79/79 [00:03<00:00, 23.61it/s, train_acc=99.1, train_loss=1.47]\n"
          ]
        },
        {
          "output_type": "stream",
          "name": "stdout",
          "text": [
            "EPOCH 129/150 :\n"
          ]
        },
        {
          "output_type": "stream",
          "name": "stderr",
          "text": [
            "  train: 100%|██████████| 469/469 [00:16<00:00, 28.25it/s, train_acc=99.8, train_loss=1.46]\n",
            "   test: 100%|██████████| 79/79 [00:02<00:00, 29.87it/s, train_acc=99.1, train_loss=1.47]\n"
          ]
        },
        {
          "output_type": "stream",
          "name": "stdout",
          "text": [
            "EPOCH 130/150 :\n"
          ]
        },
        {
          "output_type": "stream",
          "name": "stderr",
          "text": [
            "  train: 100%|██████████| 469/469 [00:16<00:00, 28.02it/s, train_acc=99.8, train_loss=1.46]\n",
            "   test: 100%|██████████| 79/79 [00:03<00:00, 22.77it/s, train_acc=99.1, train_loss=1.47]\n"
          ]
        },
        {
          "output_type": "stream",
          "name": "stdout",
          "text": [
            "EPOCH 131/150 :\n"
          ]
        },
        {
          "output_type": "stream",
          "name": "stderr",
          "text": [
            "  train: 100%|██████████| 469/469 [00:16<00:00, 28.15it/s, train_acc=99.8, train_loss=1.46]\n",
            "   test: 100%|██████████| 79/79 [00:02<00:00, 30.11it/s, train_acc=99.1, train_loss=1.47]\n"
          ]
        },
        {
          "output_type": "stream",
          "name": "stdout",
          "text": [
            "EPOCH 132/150 :\n"
          ]
        },
        {
          "output_type": "stream",
          "name": "stderr",
          "text": [
            "  train: 100%|██████████| 469/469 [00:16<00:00, 27.94it/s, train_acc=99.8, train_loss=1.46]\n",
            "   test: 100%|██████████| 79/79 [00:03<00:00, 23.32it/s, train_acc=99.1, train_loss=1.47]\n"
          ]
        },
        {
          "output_type": "stream",
          "name": "stdout",
          "text": [
            "EPOCH 133/150 :\n"
          ]
        },
        {
          "output_type": "stream",
          "name": "stderr",
          "text": [
            "  train: 100%|██████████| 469/469 [00:16<00:00, 28.49it/s, train_acc=99.8, train_loss=1.46]\n",
            "   test: 100%|██████████| 79/79 [00:02<00:00, 31.30it/s, train_acc=99.1, train_loss=1.47]\n"
          ]
        },
        {
          "output_type": "stream",
          "name": "stdout",
          "text": [
            "EPOCH 134/150 :\n"
          ]
        },
        {
          "output_type": "stream",
          "name": "stderr",
          "text": [
            "  train: 100%|██████████| 469/469 [00:16<00:00, 28.70it/s, train_acc=99.8, train_loss=1.46]\n",
            "   test: 100%|██████████| 79/79 [00:03<00:00, 21.54it/s, train_acc=99.1, train_loss=1.47]\n"
          ]
        },
        {
          "output_type": "stream",
          "name": "stdout",
          "text": [
            "EPOCH 135/150 :\n"
          ]
        },
        {
          "output_type": "stream",
          "name": "stderr",
          "text": [
            "  train: 100%|██████████| 469/469 [00:16<00:00, 28.37it/s, train_acc=99.8, train_loss=1.46]\n",
            "   test: 100%|██████████| 79/79 [00:02<00:00, 30.62it/s, train_acc=99.1, train_loss=1.47]\n"
          ]
        },
        {
          "output_type": "stream",
          "name": "stdout",
          "text": [
            "EPOCH 136/150 :\n"
          ]
        },
        {
          "output_type": "stream",
          "name": "stderr",
          "text": [
            "  train: 100%|██████████| 469/469 [00:16<00:00, 28.40it/s, train_acc=99.8, train_loss=1.46]\n",
            "   test: 100%|██████████| 79/79 [00:03<00:00, 24.95it/s, train_acc=99.1, train_loss=1.47]\n"
          ]
        },
        {
          "output_type": "stream",
          "name": "stdout",
          "text": [
            "EPOCH 137/150 :\n"
          ]
        },
        {
          "output_type": "stream",
          "name": "stderr",
          "text": [
            "  train: 100%|██████████| 469/469 [00:16<00:00, 27.80it/s, train_acc=99.8, train_loss=1.46]\n",
            "   test: 100%|██████████| 79/79 [00:02<00:00, 30.84it/s, train_acc=99.1, train_loss=1.47]\n"
          ]
        },
        {
          "output_type": "stream",
          "name": "stdout",
          "text": [
            "EPOCH 138/150 :\n"
          ]
        },
        {
          "output_type": "stream",
          "name": "stderr",
          "text": [
            "  train: 100%|██████████| 469/469 [00:16<00:00, 28.62it/s, train_acc=99.8, train_loss=1.46]\n",
            "   test: 100%|██████████| 79/79 [00:02<00:00, 29.21it/s, train_acc=99.1, train_loss=1.47]\n"
          ]
        },
        {
          "output_type": "stream",
          "name": "stdout",
          "text": [
            "EPOCH 139/150 :\n"
          ]
        },
        {
          "output_type": "stream",
          "name": "stderr",
          "text": [
            "  train: 100%|██████████| 469/469 [00:17<00:00, 27.00it/s, train_acc=99.8, train_loss=1.46]\n",
            "   test: 100%|██████████| 79/79 [00:02<00:00, 31.23it/s, train_acc=99.1, train_loss=1.47]\n"
          ]
        },
        {
          "output_type": "stream",
          "name": "stdout",
          "text": [
            "EPOCH 140/150 :\n"
          ]
        },
        {
          "output_type": "stream",
          "name": "stderr",
          "text": [
            "  train: 100%|██████████| 469/469 [00:16<00:00, 28.52it/s, train_acc=99.8, train_loss=1.46]\n",
            "   test: 100%|██████████| 79/79 [00:02<00:00, 30.96it/s, train_acc=99.1, train_loss=1.47]\n"
          ]
        },
        {
          "output_type": "stream",
          "name": "stdout",
          "text": [
            "EPOCH 141/150 :\n"
          ]
        },
        {
          "output_type": "stream",
          "name": "stderr",
          "text": [
            "  train: 100%|██████████| 469/469 [00:17<00:00, 26.85it/s, train_acc=99.8, train_loss=1.46]\n",
            "   test: 100%|██████████| 79/79 [00:02<00:00, 29.46it/s, train_acc=99.1, train_loss=1.47]\n"
          ]
        },
        {
          "output_type": "stream",
          "name": "stdout",
          "text": [
            "EPOCH 142/150 :\n"
          ]
        },
        {
          "output_type": "stream",
          "name": "stderr",
          "text": [
            "  train: 100%|██████████| 469/469 [00:16<00:00, 28.32it/s, train_acc=99.8, train_loss=1.46]\n",
            "   test: 100%|██████████| 79/79 [00:02<00:00, 30.66it/s, train_acc=99.1, train_loss=1.47]\n"
          ]
        },
        {
          "output_type": "stream",
          "name": "stdout",
          "text": [
            "EPOCH 143/150 :\n"
          ]
        },
        {
          "output_type": "stream",
          "name": "stderr",
          "text": [
            "  train: 100%|██████████| 469/469 [00:17<00:00, 26.77it/s, train_acc=99.8, train_loss=1.46]\n",
            "   test: 100%|██████████| 79/79 [00:02<00:00, 27.60it/s, train_acc=99.1, train_loss=1.47]\n"
          ]
        },
        {
          "output_type": "stream",
          "name": "stdout",
          "text": [
            "EPOCH 144/150 :\n"
          ]
        },
        {
          "output_type": "stream",
          "name": "stderr",
          "text": [
            "  train: 100%|██████████| 469/469 [00:16<00:00, 28.13it/s, train_acc=99.8, train_loss=1.46]\n",
            "   test: 100%|██████████| 79/79 [00:02<00:00, 30.90it/s, train_acc=99.1, train_loss=1.47]\n"
          ]
        },
        {
          "output_type": "stream",
          "name": "stdout",
          "text": [
            "EPOCH 145/150 :\n"
          ]
        },
        {
          "output_type": "stream",
          "name": "stderr",
          "text": [
            "  train: 100%|██████████| 469/469 [00:17<00:00, 27.46it/s, train_acc=99.8, train_loss=1.46]\n",
            "   test: 100%|██████████| 79/79 [00:02<00:00, 27.10it/s, train_acc=99.1, train_loss=1.47]\n"
          ]
        },
        {
          "output_type": "stream",
          "name": "stdout",
          "text": [
            "EPOCH 146/150 :\n"
          ]
        },
        {
          "output_type": "stream",
          "name": "stderr",
          "text": [
            "  train: 100%|██████████| 469/469 [00:16<00:00, 28.65it/s, train_acc=99.8, train_loss=1.46]\n",
            "   test: 100%|██████████| 79/79 [00:02<00:00, 30.49it/s, train_acc=99.1, train_loss=1.47]\n"
          ]
        },
        {
          "output_type": "stream",
          "name": "stdout",
          "text": [
            "EPOCH 147/150 :\n"
          ]
        },
        {
          "output_type": "stream",
          "name": "stderr",
          "text": [
            "  train: 100%|██████████| 469/469 [00:16<00:00, 28.00it/s, train_acc=99.8, train_loss=1.46]\n",
            "   test: 100%|██████████| 79/79 [00:03<00:00, 23.51it/s, train_acc=99.1, train_loss=1.47]\n"
          ]
        },
        {
          "output_type": "stream",
          "name": "stdout",
          "text": [
            "EPOCH 148/150 :\n"
          ]
        },
        {
          "output_type": "stream",
          "name": "stderr",
          "text": [
            "  train: 100%|██████████| 469/469 [00:16<00:00, 28.19it/s, train_acc=99.8, train_loss=1.46]\n",
            "   test: 100%|██████████| 79/79 [00:02<00:00, 29.95it/s, train_acc=99, train_loss=1.47]\n"
          ]
        },
        {
          "output_type": "stream",
          "name": "stdout",
          "text": [
            "EPOCH 149/150 :\n"
          ]
        },
        {
          "output_type": "stream",
          "name": "stderr",
          "text": [
            "  train: 100%|██████████| 469/469 [00:16<00:00, 28.41it/s, train_acc=99.8, train_loss=1.46]\n",
            "   test: 100%|██████████| 79/79 [00:03<00:00, 21.26it/s, train_acc=99.1, train_loss=1.47]\n"
          ]
        },
        {
          "output_type": "stream",
          "name": "stdout",
          "text": [
            "EPOCH 150/150 :\n"
          ]
        },
        {
          "output_type": "stream",
          "name": "stderr",
          "text": [
            "  train: 100%|██████████| 469/469 [00:17<00:00, 27.55it/s, train_acc=99.8, train_loss=1.46]\n",
            "   test: 100%|██████████| 79/79 [00:02<00:00, 30.56it/s, train_acc=99.1, train_loss=1.47]\n"
          ]
        },
        {
          "output_type": "stream",
          "name": "stdout",
          "text": [
            "\n",
            "\n",
            "Train time: 2886.529 seconds\n"
          ]
        }
      ]
    },
    {
      "cell_type": "code",
      "source": [
        "torch.save(model1.state_dict(), 'saved_model')"
      ],
      "metadata": {
        "id": "90QLMolZXtt_"
      },
      "execution_count": 9,
      "outputs": []
    },
    {
      "cell_type": "markdown",
      "source": [
        "# Plot and Evaluation"
      ],
      "metadata": {
        "id": "LAav51pJHRuV"
      }
    },
    {
      "cell_type": "code",
      "source": [
        "y_preds = []\n",
        "model1.eval()\n",
        "for X, y in tqdm(test_dataloader, desc=\"Making predictions\"):\n",
        "    X, y = X.to(device), y.to(device)\n",
        "\n",
        "    y_logit = model1(X)\n",
        "\n",
        "    y_pred = torch.softmax(y_logit, dim=1).argmax(dim=1)\n",
        "\n",
        "    y_preds.append(y_pred.cpu())\n",
        "    \n",
        "y_pred_tensor = torch.cat(y_preds)"
      ],
      "metadata": {
        "id": "_XGK_u8JHIA3",
        "colab": {
          "base_uri": "https://localhost:8080/"
        },
        "outputId": "7454e4d4-39b2-41e2-eedf-7652de9f2142"
      },
      "execution_count": 11,
      "outputs": [
        {
          "output_type": "stream",
          "name": "stderr",
          "text": [
            "Making predictions: 100%|██████████| 79/79 [00:02<00:00, 30.64it/s]\n"
          ]
        }
      ]
    },
    {
      "cell_type": "code",
      "source": [
        "from sklearn.metrics import accuracy_score\n",
        "print(\"model 1 accuracy=\",accuracy_score(test_dataset.targets,y_pred_tensor,normalize = True))"
      ],
      "metadata": {
        "id": "GR_6_zMgPol2",
        "colab": {
          "base_uri": "https://localhost:8080/"
        },
        "outputId": "3a976a6f-e5f0-4de6-e344-5cf2243b5b6e"
      },
      "execution_count": 12,
      "outputs": [
        {
          "output_type": "stream",
          "name": "stdout",
          "text": [
            "model 1 accuracy= 0.9905\n"
          ]
        }
      ]
    },
    {
      "cell_type": "code",
      "source": [
        "from sklearn.metrics import confusion_matrix\n",
        "CM = confusion_matrix(y_true=test_dataset.targets,\n",
        "                      y_pred=y_pred_tensor)\n",
        "CM"
      ],
      "metadata": {
        "id": "PPGlqi8TiYEY",
        "colab": {
          "base_uri": "https://localhost:8080/"
        },
        "outputId": "674a2cbd-05a7-4850-ecd5-942ffdc7714d"
      },
      "execution_count": 13,
      "outputs": [
        {
          "output_type": "execute_result",
          "data": {
            "text/plain": [
              "array([[ 977,    0,    1,    0,    0,    0,    1,    1,    0,    0],\n",
              "       [   0, 1130,    1,    2,    0,    0,    1,    0,    1,    0],\n",
              "       [   1,    2, 1024,    0,    1,    0,    0,    4,    0,    0],\n",
              "       [   0,    0,    1, 1003,    0,    4,    0,    1,    1,    0],\n",
              "       [   0,    0,    0,    0,  978,    0,    1,    1,    1,    1],\n",
              "       [   2,    0,    0,    8,    0,  881,    1,    0,    0,    0],\n",
              "       [   4,    2,    0,    1,    2,    3,  943,    0,    3,    0],\n",
              "       [   0,    4,    5,    1,    0,    0,    0, 1015,    1,    2],\n",
              "       [   3,    0,    3,    0,    1,    1,    0,    2,  962,    2],\n",
              "       [   2,    0,    1,    1,    6,    3,    0,    4,    0,  992]])"
            ]
          },
          "metadata": {},
          "execution_count": 13
        }
      ]
    },
    {
      "cell_type": "code",
      "source": [
        "def accloss_plots(train_loss=train_epoch_loss_model1, \n",
        "                  test_loss=test_epoch_loss_model1, \n",
        "                  train_acc=train_epoch_accuracy_model1, \n",
        "                  test_acc=test_epoch_accuracy_model1):\n",
        "  \n",
        "    num_epochs = len(train_loss)\n",
        "    plt.figure(figsize=(13,5))\n",
        "    plt.subplot(121)\n",
        "    plt.plot(train_loss, 'r', label='Train')\n",
        "    plt.plot(test_loss , 'g', label='Test')\n",
        "    plt.xlabel('Epochs', fontsize=10, labelpad=8)\n",
        "    plt.title('Loss', fontsize=25, pad=15)\n",
        "    plt.grid()\n",
        "    plt.legend()\n",
        "    sns.despine()\n",
        "    plt.subplot(122)\n",
        "    plt.plot(train_acc, 'r', label='Train')\n",
        "    plt.plot(test_acc, 'g', label='Test')\n",
        "    plt.xlabel('Epochs', fontsize=10, labelpad=8)\n",
        "    plt.title('Accuracy', fontsize=25, pad=15)\n",
        "    plt.tight_layout(pad=3)\n",
        "    plt.grid()\n",
        "    plt.legend()\n",
        "    sns.despine()\n",
        "    plt.show();"
      ],
      "metadata": {
        "id": "6XFkSInaVrGe"
      },
      "execution_count": 16,
      "outputs": []
    },
    {
      "cell_type": "code",
      "source": [
        "accloss_plots()"
      ],
      "metadata": {
        "colab": {
          "base_uri": "https://localhost:8080/",
          "height": 390
        },
        "id": "GRqF8bgBV2bC",
        "outputId": "63a46c65-e91e-4474-ce7d-faa108c7b71f"
      },
      "execution_count": 17,
      "outputs": [
        {
          "output_type": "display_data",
          "data": {
            "text/plain": [
              "<Figure size 1300x500 with 2 Axes>"
            ],
            "image/png": "[encoded data removed]"
          },
          "metadata": {}
        }
      ]
    }
  ]
}